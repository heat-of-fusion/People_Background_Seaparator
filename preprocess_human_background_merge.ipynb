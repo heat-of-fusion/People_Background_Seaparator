{
 "cells": [
  {
   "cell_type": "code",
   "execution_count": 1,
   "id": "initial_id",
   "metadata": {
    "collapsed": true,
    "ExecuteTime": {
     "end_time": "2023-11-19T14:37:57.584253300Z",
     "start_time": "2023-11-19T14:37:57.085585300Z"
    }
   },
   "outputs": [],
   "source": [
    "import os\n",
    "import cv2\n",
    "import numpy as np\n",
    "from tqdm import tqdm\n",
    "import matplotlib.pyplot as plt"
   ]
  },
  {
   "cell_type": "code",
   "execution_count": 2,
   "outputs": [],
   "source": [
    "ref_W, ref_H = 1024, 768"
   ],
   "metadata": {
    "collapsed": false,
    "ExecuteTime": {
     "end_time": "2023-11-19T14:37:57.605194900Z",
     "start_time": "2023-11-19T14:37:57.584253300Z"
    }
   },
   "id": "5b52d3b64e06cec8"
  },
  {
   "cell_type": "code",
   "execution_count": 3,
   "outputs": [],
   "source": [
    "# INPUT PATHs\n",
    "BG_PATH = 'E:/dataset/background/street_view/img/'\n",
    "HM_PATH = 'E:/dataset/preprocessed/people/'\n",
    "MASK_PATH = 'E:/dataset/preprocessed/mask/'\n",
    "\n",
    "# OUTPUT PATHs\n",
    "OUT_BG_PATH = 'E:/dataset/completed/background/'\n",
    "OUT_MK_PATH = 'E:/dataset/completed/mask/'\n",
    "OUT_MX_PATH = 'E:/dataset/completed/mixed/'\n",
    "OUT_PP_PATH = 'E:/dataset/completed/people/'\n",
    "OUT_MB_PATH = 'E:/dataset/completed/masked_background/'"
   ],
   "metadata": {
    "collapsed": false,
    "ExecuteTime": {
     "end_time": "2023-11-19T14:37:57.649077200Z",
     "start_time": "2023-11-19T14:37:57.599211800Z"
    }
   },
   "id": "7963568d61c8a6ad"
  },
  {
   "cell_type": "code",
   "execution_count": 4,
   "outputs": [
    {
     "data": {
      "text/plain": "(['000001_3.jpg',\n  '000003_4.jpg',\n  '000011_5.jpg',\n  '000014_5.jpg',\n  '000017_3.jpg'],\n ['0_people.png',\n  '10000_people.png',\n  '10001_people.png',\n  '10002_people.png',\n  '10003_people.png'],\n ['0_mask.png',\n  '10000_mask.png',\n  '10001_mask.png',\n  '10002_mask.png',\n  '10003_mask.png'])"
     },
     "execution_count": 4,
     "metadata": {},
     "output_type": "execute_result"
    }
   ],
   "source": [
    "bg_list, hm_list, mk_list = os.listdir(BG_PATH), os.listdir(HM_PATH), os.listdir(MASK_PATH)\n",
    "bg_list[:5], hm_list[:5], mk_list[:5]"
   ],
   "metadata": {
    "collapsed": false,
    "ExecuteTime": {
     "end_time": "2023-11-19T14:37:57.752260500Z",
     "start_time": "2023-11-19T14:37:57.615171200Z"
    }
   },
   "id": "aad558412ca9e3c8"
  },
  {
   "cell_type": "code",
   "execution_count": 10,
   "outputs": [
    {
     "name": "stderr",
     "output_type": "stream",
     "text": [
      "Converting...: 100%|██████████| 1253/1253 [04:21<00:00,  4.80it/s]\n"
     ]
    }
   ],
   "source": [
    "curr_img_count = int()\n",
    "for i in tqdm(range(len(bg_list)), desc = 'Converting...'):\n",
    "    background = cv2.cvtColor(cv2.imread(BG_PATH + bg_list[i]), cv2.COLOR_BGR2RGB)\n",
    "    \n",
    "    if background.shape[0] != ref_H or background.shape[1] != ref_W:\n",
    "        background = cv2.resize(background, dsize = (ref_W, ref_H))\n",
    "    \n",
    "    mask_background = np.zeros_like(background)\n",
    "    IH, IW = background.shape[0], background.shape[1]\n",
    "    for j in range(1):\n",
    "        people = cv2.cvtColor(cv2.imread(HM_PATH + hm_list[curr_img_count], cv2.IMREAD_UNCHANGED), cv2.COLOR_BGRA2RGBA)\n",
    "        mask = cv2.imread(MASK_PATH + mk_list[curr_img_count])\n",
    "        \n",
    "        # print(f'alpha min: {people[:, :, 3].min()}, alpha max: {people[:, :, 3].max()}')\n",
    "        \n",
    "        # print(people.shape)\n",
    "        \n",
    "        PH, PW = people.shape[0], people.shape[1]\n",
    "        prop = IH / PH\n",
    "        \n",
    "#         print(prop)\n",
    "        \n",
    "#         print(f'size: {(IH, int(PW * prop))}')\n",
    "        \n",
    "        people = cv2.resize(people, dsize = (int(PW * prop), IH))\n",
    "        mask = cv2.resize(mask, dsize = (int(PW * prop), IH))\n",
    "        \n",
    "        random_flag, random_range, random_val = True if IW > people.shape[1] else False, int(), int()\n",
    "        \n",
    "#         print(f'{IW, people.shape[1]}\\n{random_flag}')\n",
    "        \n",
    "        if random_flag:\n",
    "            random_range = IW - people.shape[1]\n",
    "            random_val = np.random.randint(0, random_range)\n",
    "#             print(f'random val: {random_val}')\n",
    "            people_resize = np.zeros([IH, IW, 4])\n",
    "            mask_resize = np.zeros([IH, IW, 3])\n",
    "#             print(f'test: {people_resize[:, random_val:random_val + people.shape[1], :].shape}')\n",
    "            \n",
    "            # print(f'before\\nmask: {mask.shape}\\npeople: {people.shape}\\n---------')\n",
    "            \n",
    "            people_resize[:, random_val:random_val + people.shape[1], :] = people.copy()\n",
    "            mask_resize[:, random_val:random_val + people.shape[1], :] = mask.copy()\n",
    "            people = people_resize.copy().astype(int)\n",
    "            mask = mask_resize.copy().astype(int)\n",
    "#             print(f'after\\nmask: {mask.shape}\\npeople: {people.shape}\\n---------')\n",
    "            \n",
    "#             plt.imshow(people)\n",
    "#             plt.title(f'maxmin\\n{people.max(), people.min()}')\n",
    "#             plt.show()\n",
    "        \n",
    "        people = people[:, :min(IW, people.shape[1]), :]\n",
    "        mask = mask[:, :min(IW, people.shape[1]), :]\n",
    "        \n",
    "#         plt.imshow(people)\n",
    "#         plt.title(f'{people.shape}')\n",
    "#         plt.show()\n",
    "        \n",
    "        replace_idx = np.where(people[:, :, 3] == 255)\n",
    "        result = background.copy()\n",
    "        \n",
    "#         print(f'len: {len(replace_idx)}\\n[0]len: {len(replace_idx[0])}\\n[1]len: {len(replace_idx[1])}\\ntype: {type(replace_idx)}\\n[0]type: {type(replace_idx[0])}\\n[1]type: {type(replace_idx[1])}')\n",
    "        \n",
    "        result[replace_idx] = people[:, :, :3][replace_idx]\n",
    "                \n",
    "        # plt.figure(figsize = (10, 50))\n",
    "        # plt.subplot(1, 5, 1)\n",
    "        # plt.imshow(background)\n",
    "        # plt.title(f'background\\n{background.shape}')\n",
    "        # plt.axis('off')\n",
    "        # plt.subplot(1, 5, 2)\n",
    "        # plt.imshow(mask)\n",
    "        # plt.title(f'mask\\n{mask.shape}')\n",
    "        # plt.axis('off')\n",
    "        # plt.subplot(1, 5, 3)\n",
    "        # plt.imshow(result)\n",
    "        # plt.title(f'mixed\\n{result.shape}')\n",
    "        # plt.axis('off')\n",
    "        # plt.subplot(1, 5, 4)\n",
    "        # plt.imshow(people)\n",
    "        # plt.title(f'people\\n{people.shape}')\n",
    "        # plt.axis('off')\n",
    "        # plt.subplot(1, 5, 5)\n",
    "        # plt.imshow(result)\n",
    "        # plt.imshow(mask, alpha = 0.7)\n",
    "        # plt.title('mask + mixed')\n",
    "        # plt.axis('off')\n",
    "        # plt.show()\n",
    "        \n",
    "        # print(people.shape)\n",
    "        \n",
    "        mask = np.float32(mask)\n",
    "        people = np.float32(people)\n",
    "        \n",
    "#         print(f'test{people.min(), people.max()}')\n",
    "        \n",
    "        if people.shape[0] != ref_H or people.shape[1] != ref_W:\n",
    "            continue\n",
    "        \n",
    "        cv2.imwrite(OUT_BG_PATH + f'{i}_{j}_background.png', cv2.cvtColor(background, cv2.COLOR_RGB2BGR))\n",
    "        cv2.imwrite(OUT_MK_PATH + f'{i}_{j}_mask.png', cv2.cvtColor(mask, cv2.COLOR_RGB2BGR))\n",
    "        cv2.imwrite(OUT_MX_PATH + f'{i}_{j}_mixed.png', cv2.cvtColor(result, cv2.COLOR_RGB2BGR))\n",
    "        cv2.imwrite(OUT_PP_PATH + f'{i}_{j}_people.png', cv2.cvtColor(people, cv2.COLOR_RGBA2BGRA))\n",
    "        cv2.imwrite(OUT_MB_PATH + f'{i}_{j}_maskedbackground.png', cv2.cvtColor(background, cv2.COLOR_RGB2BGR) * (1 - mask))\n",
    "        \n",
    "        curr_img_count += 1"
   ],
   "metadata": {
    "collapsed": false,
    "ExecuteTime": {
     "end_time": "2023-11-19T14:42:18.929204200Z",
     "start_time": "2023-11-19T14:37:57.818464600Z"
    }
   },
   "id": "56368d0a1bf11de7"
  },
  {
   "cell_type": "code",
   "execution_count": 10,
   "outputs": [],
   "source": [
    " "
   ],
   "metadata": {
    "collapsed": false,
    "ExecuteTime": {
     "end_time": "2023-11-19T14:42:18.964184100Z",
     "start_time": "2023-11-19T14:42:18.933216800Z"
    }
   },
   "id": "2e2fa6093fe0cb6f"
  }
 ],
 "metadata": {
  "kernelspec": {
   "display_name": "Python 3",
   "language": "python",
   "name": "python3"
  },
  "language_info": {
   "codemirror_mode": {
    "name": "ipython",
    "version": 2
   },
   "file_extension": ".py",
   "mimetype": "text/x-python",
   "name": "python",
   "nbconvert_exporter": "python",
   "pygments_lexer": "ipython2",
   "version": "2.7.6"
  }
 },
 "nbformat": 4,
 "nbformat_minor": 5
}
