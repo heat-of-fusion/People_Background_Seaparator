{
 "cells": [
  {
   "cell_type": "code",
   "execution_count": 1,
   "id": "initial_id",
   "metadata": {
    "collapsed": true,
    "ExecuteTime": {
     "end_time": "2023-11-17T11:07:29.488885100Z",
     "start_time": "2023-11-17T11:07:28.674337Z"
    }
   },
   "outputs": [],
   "source": [
    "import os\n",
    "import cv2\n",
    "import numpy as np\n",
    "import pandas as pd\n",
    "from tqdm import tqdm\n",
    "import matplotlib.pyplot as plt"
   ]
  },
  {
   "cell_type": "code",
   "execution_count": 2,
   "outputs": [],
   "source": [
    "mask_dict = dict()"
   ],
   "metadata": {
    "collapsed": false,
    "ExecuteTime": {
     "end_time": "2023-11-17T11:07:29.530838100Z",
     "start_time": "2023-11-17T11:07:29.486859700Z"
    }
   },
   "id": "f4a60708e30a7b05"
  },
  {
   "cell_type": "code",
   "execution_count": 3,
   "outputs": [],
   "source": [
    "# TRAIN_PATH = 'E:/dataset/multi_human_parsing/train/'\n",
    "# TEST_PATH = TRAIN_PATH[:-6] + 'test/'\n",
    "# VAL_PATH = TRAIN_PATH[:-6] + 'val/'\n",
    "\n",
    "IMAGE_PATH = 'E:/dataset/multi_human_parsing/train/images/'\n",
    "MASK_PATH = IMAGE_PATH[:-7] + 'parsing_annos/'\n",
    "\n",
    "OUT_IMAGE_PATH = 'E:/dataset/preprocessed/people/'\n",
    "OUT_MASK_PATH = 'E:/dataset/preprocessed/mask/'"
   ],
   "metadata": {
    "collapsed": false,
    "ExecuteTime": {
     "end_time": "2023-11-17T11:07:29.535825400Z",
     "start_time": "2023-11-17T11:07:29.501819500Z"
    }
   },
   "id": "52db966a0d43fcd8"
  },
  {
   "cell_type": "code",
   "execution_count": 4,
   "outputs": [
    {
     "data": {
      "text/plain": "('E:/dataset/multi_human_parsing/train/images/',\n 'E:/dataset/multi_human_parsing/train/parsing_annos/')"
     },
     "execution_count": 4,
     "metadata": {},
     "output_type": "execute_result"
    }
   ],
   "source": [
    "IMAGE_PATH, MASK_PATH"
   ],
   "metadata": {
    "collapsed": false,
    "ExecuteTime": {
     "end_time": "2023-11-17T11:07:29.551782100Z",
     "start_time": "2023-11-17T11:07:29.517776800Z"
    }
   },
   "id": "d462d0fcc79943a2"
  },
  {
   "cell_type": "code",
   "execution_count": 5,
   "outputs": [],
   "source": [
    "image_list, mask_list = os.listdir(IMAGE_PATH), os.listdir(MASK_PATH)"
   ],
   "metadata": {
    "collapsed": false,
    "ExecuteTime": {
     "end_time": "2023-11-17T11:07:29.608606700Z",
     "start_time": "2023-11-17T11:07:29.534805300Z"
    }
   },
   "id": "9591505c3c218b06"
  },
  {
   "cell_type": "code",
   "execution_count": 6,
   "outputs": [],
   "source": [
    "for i in range(len(mask_list)):\n",
    "    mask_name = list(map(int, mask_list[i][:-4].split('_')))\n",
    "    try:\n",
    "        mask_dict[mask_name[0]]\n",
    "    except:\n",
    "        mask_dict[mask_name[0]] = mask_name[1]"
   ],
   "metadata": {
    "collapsed": false,
    "ExecuteTime": {
     "end_time": "2023-11-17T11:07:29.628552700Z",
     "start_time": "2023-11-17T11:07:29.564724300Z"
    }
   },
   "id": "e62c56badea2b0d4"
  },
  {
   "cell_type": "code",
   "execution_count": 7,
   "outputs": [],
   "source": [
    "def RGBA(image, mask):\n",
    "    rgba = cv2.merge([image[:, :, 0], image[:, :, 1], image[:, :, 2], mask])\n",
    "    return rgba"
   ],
   "metadata": {
    "collapsed": false,
    "ExecuteTime": {
     "end_time": "2023-11-17T11:07:29.656479600Z",
     "start_time": "2023-11-17T11:07:29.629551800Z"
    }
   },
   "id": "91e2e17e5deee6da"
  },
  {
   "cell_type": "code",
   "execution_count": 8,
   "outputs": [
    {
     "name": "stderr",
     "output_type": "stream",
     "text": [
      "Converting...: 100%|██████████| 15403/15403 [19:08<00:00, 13.41it/s] \n"
     ]
    }
   ],
   "source": [
    "for i in tqdm(range(len(image_list)), desc = 'Converting...'):\n",
    "    image = cv2.cvtColor(cv2.imread(IMAGE_PATH + image_list[i]), cv2.COLOR_BGR2RGB)\n",
    "    mask = np.zeros_like(image[:, :, 0])\n",
    "    image_name = int(image_list[i][:-4])\n",
    "    \n",
    "    for j in range(mask_dict[image_name]):\n",
    "        instance_mask = cv2.cvtColor(cv2.imread(MASK_PATH + f'{image_name}_{str(mask_dict[image_name]).zfill(2)}_{str(j + 1).zfill(2)}.png'), cv2.COLOR_BGR2GRAY)\n",
    "        mask += instance_mask\n",
    "    \n",
    "    mask[np.where(mask > 0)] = 255\n",
    "    rgba = RGBA(image, mask)\n",
    "    \n",
    "    cv2.imwrite(OUT_IMAGE_PATH + f'{i}_people.png', cv2.cvtColor(rgba, cv2.COLOR_RGBA2BGRA))\n",
    "    cv2.imwrite(OUT_MASK_PATH + f'{i}_mask.png', mask)\n",
    "    \n",
    "    # if i % 1000 == 0:\n",
    "    #     plt.figure(figsize = (7, 21))\n",
    "    #     plt.subplot(1, 3, 1)\n",
    "    #     plt.imshow(image)\n",
    "    #     plt.title(f'Image')\n",
    "    #     plt.axis('off')\n",
    "    #     plt.subplot(1, 3, 2)\n",
    "    #     plt.imshow(mask * 255)\n",
    "    #     plt.title(f'Mask')\n",
    "    #     plt.axis('off')\n",
    "    #     plt.subplot(1, 3, 3)\n",
    "    #     plt.imshow(rgba)\n",
    "    #     plt.title(f'RGBA')\n",
    "    #     plt.axis('off')\n",
    "    #     plt.show()"
   ],
   "metadata": {
    "collapsed": false,
    "ExecuteTime": {
     "end_time": "2023-11-17T11:26:37.969591300Z",
     "start_time": "2023-11-17T11:07:29.647506800Z"
    }
   },
   "id": "263a582eb76504b8"
  },
  {
   "cell_type": "code",
   "execution_count": 8,
   "outputs": [],
   "source": [],
   "metadata": {
    "collapsed": false,
    "ExecuteTime": {
     "end_time": "2023-11-17T11:26:37.970588900Z",
     "start_time": "2023-11-17T11:26:37.943661300Z"
    }
   },
   "id": "3cc86b59448bc224"
  }
 ],
 "metadata": {
  "kernelspec": {
   "display_name": "Python 3",
   "language": "python",
   "name": "python3"
  },
  "language_info": {
   "codemirror_mode": {
    "name": "ipython",
    "version": 2
   },
   "file_extension": ".py",
   "mimetype": "text/x-python",
   "name": "python",
   "nbconvert_exporter": "python",
   "pygments_lexer": "ipython2",
   "version": "2.7.6"
  }
 },
 "nbformat": 4,
 "nbformat_minor": 5
}
